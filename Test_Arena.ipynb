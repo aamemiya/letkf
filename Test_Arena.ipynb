{
 "cells": [
  {
   "cell_type": "code",
   "execution_count": 1,
   "metadata": {},
   "outputs": [],
   "source": [
    "import tensorflow as tf\n",
    "import numpy as np\n",
    "from netCDF4 import Dataset"
   ]
  },
  {
   "cell_type": "code",
   "execution_count": 33,
   "metadata": {},
   "outputs": [],
   "source": [
    "#Parameter List\n",
    "parameter_list = {}\n",
    "\n",
    "parameter_list['netCDf_loc'] = \"./lorenz96_multi/DATA_sample/X40F18/all_10/nocorr_I20/assim.nc\"\n",
    "parameter_list['locality'] = 5\n",
    "parameter_list['time_splits'] = 30\n",
    "parameter_list['batch_size'] = 240\n",
    "parameter_list['val_size'] = 2\n",
    "parameter_list['LSTM_output'] = 5\n",
    "parameter_list['net_output'] = 1"
   ]
  },
  {
   "cell_type": "code",
   "execution_count": 3,
   "metadata": {},
   "outputs": [],
   "source": [
    "#Getting the NetCDF files\n",
    "root_grp = Dataset(parameter_list['netCDf_loc'], \"r\", format=\"NETCDF4\")\n",
    "\n",
    "#Extrating the datasets\n",
    "analysis_init = root_grp[\"vam\"]\n",
    "forecast_init = root_grp[\"vfm\"]"
   ]
  },
  {
   "cell_type": "code",
   "execution_count": 13,
   "metadata": {},
   "outputs": [],
   "source": [
    "#Creation of datasets for training and validation\n",
    "\n",
    "#For creating locality for individual state variable\n",
    "def locality_creator(init_dataset):\n",
    "    \n",
    "    output_dataset = np.zeros((init_dataset.shape[0], init_dataset.shape[1], parameter_list['locality']))\n",
    "    radius = int(parameter_list['locality'] / 2)\n",
    "    \n",
    "    for i in range(init_dataset.shape[1]):\n",
    "        start = i - radius\n",
    "        stop = i + radius\n",
    "        index = np.linspace(start,stop,parameter_list['locality'], dtype='int')\n",
    "        if stop >= init_dataset.shape[1]:\n",
    "            stop2 = (stop + 1)%init_dataset.shape[1]\n",
    "            index[:-stop2] = np.linspace(start,analysis_init.shape[1]-1,analysis_init.shape[1]-start, dtype='int')\n",
    "            index[-stop2:] = np.arange(0,stop2,1,dtype='int')\n",
    "        output_dataset[:,i,:] = init_dataset[:,index]\n",
    "\n",
    "    return np.transpose(output_dataset,(1,0,2)).astype('float32')\n",
    "\n",
    "#For creating the truth label\n",
    "def truth_label_creator(init_dataset):\n",
    "    output_dataset = init_dataset[:]\n",
    "    output_dataset = np.expand_dims(output_dataset, axis=0)\n",
    "    return np.transpose(output_dataset.astype('float32'))\n",
    "\n",
    "analysis_dataset = truth_label_creator(analysis_init)\n",
    "forecast_dataset = locality_creator(forecast_init)"
   ]
  },
  {
   "cell_type": "code",
   "execution_count": 16,
   "metadata": {},
   "outputs": [
    {
     "name": "stdout",
     "output_type": "stream",
     "text": [
      "(40, 7200, 1)\n",
      "(40, 7200, 5)\n"
     ]
    }
   ],
   "source": [
    "print(analysis_dataset.shape)\n",
    "print(forecast_dataset.shape)"
   ]
  },
  {
   "cell_type": "code",
   "execution_count": 17,
   "metadata": {},
   "outputs": [],
   "source": [
    "#Creating time data splits\n",
    "def split_sequences(sequences, n_steps):\n",
    "    X = list()\n",
    "    for i in range(len(sequences)):\n",
    "        # find the end of this pattern\n",
    "        end_ix = i*n_steps + n_steps\n",
    "        # check if we are beyond the dataset\n",
    "        if end_ix > len(sequences):\n",
    "            break\n",
    "        # gather input and output parts of the pattern\n",
    "        seq_x = sequences[i*n_steps:end_ix, :]\n",
    "        X.append(seq_x)\n",
    "    return np.array(X)"
   ]
  },
  {
   "cell_type": "code",
   "execution_count": 18,
   "metadata": {},
   "outputs": [],
   "source": [
    "#For serializing the tensor to a string for TFRecord\n",
    "def _serialize_tensor(value):\n",
    "    return tf.io.serialize_tensor(value)"
   ]
  },
  {
   "cell_type": "code",
   "execution_count": 19,
   "metadata": {},
   "outputs": [],
   "source": [
    "#For writing data to the TFRecord file\n",
    "def write_TFRecord(filename, dataset):\n",
    "    with tf.io.TFRecordWriter(filename) as writer:\n",
    "        for i in range(dataset.shape[0]):\n",
    "            dataset_splits = split_sequences(dataset[i],parameter_list['time_splits'])\n",
    "            for j in range(dataset_splits.shape[0]):\n",
    "                data = dataset_splits[j]\n",
    "                serial_string = _serialize_tensor(data)\n",
    "                writer.write(serial_string.numpy())\n",
    "    writer.close()"
   ]
  },
  {
   "cell_type": "code",
   "execution_count": 20,
   "metadata": {},
   "outputs": [],
   "source": [
    "#For reading the TFRecord File\n",
    "def read_TFRecord(filename):\n",
    "    return tf.data.TFRecordDataset(filename)\n",
    "\n",
    "#For parsing the value from string to float32\n",
    "def _parse_tensor(value):\n",
    "    return tf.io.parse_tensor(value, out_type=tf.float32)"
   ]
  },
  {
   "cell_type": "code",
   "execution_count": 21,
   "metadata": {},
   "outputs": [],
   "source": [
    "write_TFRecord('analysis.tfrecord', analysis_dataset)\n",
    "write_TFRecord('forecast.tfrecord', forecast_dataset)"
   ]
  },
  {
   "cell_type": "code",
   "execution_count": 22,
   "metadata": {},
   "outputs": [],
   "source": [
    "#Reading the TFRecord files\n",
    "anal_file = read_TFRecord('analysis.tfrecord')\n",
    "fore_file = read_TFRecord('forecast.tfrecord')\n",
    "\n",
    "#Parsing the dataset\n",
    "anal_file = anal_file.map(_parse_tensor)\n",
    "fore_file = fore_file.map(_parse_tensor)"
   ]
  },
  {
   "cell_type": "code",
   "execution_count": 26,
   "metadata": {},
   "outputs": [
    {
     "name": "stdout",
     "output_type": "stream",
     "text": [
      "tf.Tensor(\n",
      "[[ 2.5275862 ]\n",
      " [ 0.10720196]\n",
      " [-4.5038705 ]\n",
      " [-0.5758473 ]\n",
      " [ 4.96911   ]\n",
      " [ 9.766104  ]\n",
      " [12.0870075 ]\n",
      " [12.366183  ]\n",
      " [11.989755  ]\n",
      " [11.572255  ]\n",
      " [ 9.129641  ]\n",
      " [ 7.2429566 ]\n",
      " [ 5.590367  ]\n",
      " [ 3.9402463 ]\n",
      " [ 1.6291242 ]\n",
      " [-0.04845555]\n",
      " [-1.2606804 ]\n",
      " [-1.285853  ]\n",
      " [-1.9424187 ]\n",
      " [-1.1521606 ]\n",
      " [ 1.0832406 ]\n",
      " [ 1.0983195 ]\n",
      " [ 1.6302749 ]\n",
      " [ 3.073546  ]\n",
      " [ 5.539774  ]\n",
      " [ 8.607784  ]\n",
      " [10.845199  ]\n",
      " [12.17369   ]\n",
      " [12.109179  ]\n",
      " [12.031685  ]], shape=(30, 1), dtype=float32)\n",
      "tf.Tensor(\n",
      "[[12.206066  ]\n",
      " [11.010676  ]\n",
      " [ 9.625998  ]\n",
      " [ 8.224021  ]\n",
      " [ 4.4870877 ]\n",
      " [ 1.8564718 ]\n",
      " [-2.012524  ]\n",
      " [-4.3671155 ]\n",
      " [-5.4911284 ]\n",
      " [-3.0116932 ]\n",
      " [ 0.8351451 ]\n",
      " [ 3.1534274 ]\n",
      " [ 3.2474718 ]\n",
      " [ 2.3837285 ]\n",
      " [ 2.3529098 ]\n",
      " [ 2.8351338 ]\n",
      " [ 3.5794053 ]\n",
      " [ 3.6161501 ]\n",
      " [ 6.0409837 ]\n",
      " [ 6.8243957 ]\n",
      " [ 7.637682  ]\n",
      " [ 7.6558876 ]\n",
      " [ 3.9638317 ]\n",
      " [-0.31291604]\n",
      " [-3.6446133 ]\n",
      " [-5.5014067 ]\n",
      " [-5.731505  ]\n",
      " [-4.3057094 ]\n",
      " [-3.1555994 ]\n",
      " [-2.1563272 ]], shape=(30, 1), dtype=float32)\n"
     ]
    }
   ],
   "source": [
    "for i in anal_file.take(2):\n",
    "    print(i)"
   ]
  },
  {
   "cell_type": "code",
   "execution_count": 27,
   "metadata": {},
   "outputs": [],
   "source": [
    "#Zipping the files\n",
    "dataset = tf.data.Dataset.zip((fore_file, anal_file))\n",
    "\n",
    "#Shuffling the dataset\n",
    "dataset = dataset.shuffle(100000)\n",
    "dataset = dataset.batch(batch_size=parameter_list['batch_size'])"
   ]
  },
  {
   "cell_type": "code",
   "execution_count": 32,
   "metadata": {},
   "outputs": [
    {
     "name": "stdout",
     "output_type": "stream",
     "text": [
      "tf.Tensor(\n",
      "[[[-5.5598254  -2.1059184   0.41211593  8.918329    7.2337728 ]\n",
      "  [-5.4811873  -0.597272    0.9582342  10.14994     4.1737823 ]\n",
      "  [-3.510908   -0.33660686  1.4144015  10.18889     0.9562744 ]\n",
      "  ...\n",
      "  [ 1.3940802  -0.48760372  3.1480527  11.7588625  12.928122  ]\n",
      "  [-1.8986384   0.30543423  3.1541739  13.49599    11.8989525 ]\n",
      "  [-1.0812358   0.826409    4.4172773  15.013823    5.528044  ]]\n",
      "\n",
      " [[ 2.529325   -0.82746166  2.375769    7.5910177  11.007996  ]\n",
      "  [ 4.844715    1.3695284   3.4272459   9.853755    8.039642  ]\n",
      "  [ 6.2216773   3.0345786   4.167145   10.4467      2.8360262 ]\n",
      "  ...\n",
      "  [-1.5589371   0.01981308  3.569725   11.728434   -4.2556243 ]\n",
      "  [-0.790359    0.8839122   5.360207   10.49557    -3.6153824 ]\n",
      "  [ 0.5827171   1.803542    6.390567    8.940467   -2.455832  ]]\n",
      "\n",
      " [[-5.287018    5.995021    6.748928    4.244227    6.9680014 ]\n",
      "  [-4.1884236   5.7011933   9.229808    4.8082504   6.7187877 ]\n",
      "  [-3.1932144   4.1940794  11.3814335   5.9808016   5.763995  ]\n",
      "  ...\n",
      "  [ 4.3445544  12.44945     7.7114344   0.1358836  -1.5227216 ]\n",
      "  [ 1.5382866  12.606214    6.855247   -2.6940076  -0.1974325 ]\n",
      "  [-0.13678275 12.662601    3.8153613  -5.7652984  -0.12935589]]\n",
      "\n",
      " ...\n",
      "\n",
      " [[11.348504    3.6293151  -5.291887    0.27814612 11.257672  ]\n",
      "  [ 8.987363   -0.24958144 -4.3029423  -0.36080626 11.262624  ]\n",
      "  [ 7.604808   -3.0039663  -2.61845    -2.4614203  10.591795  ]\n",
      "  ...\n",
      "  [ 2.1235619   9.084062    5.2362204  -6.380397    2.1991754 ]\n",
      "  [ 2.9665673   9.411173    3.4028416  -5.676606    3.5959842 ]\n",
      "  [ 4.7557974  10.651152   -1.7183797  -4.2303114   2.5425348 ]]\n",
      "\n",
      " [[ 3.3575888  -3.4946284  -0.46513495  0.84582365  8.320661  ]\n",
      "  [ 1.4965783  -2.5072358   0.93544835  2.9159613  10.293082  ]\n",
      "  [ 2.3672173  -0.73256844  1.7004571   4.7588825  12.218991  ]\n",
      "  ...\n",
      "  [ 0.8433953   7.53702    10.90967    -5.2729425  -5.810229  ]\n",
      "  [ 1.3271033   9.219721    7.185378   -9.011257   -1.075548  ]\n",
      "  [ 2.1119611   9.555738    3.7582183  -9.42128     1.870578  ]]\n",
      "\n",
      " [[ 2.5680416   0.42396492  1.1846653   4.77843    10.125767  ]\n",
      "  [ 2.8990731   1.1507598   2.600769    7.0287123   6.844103  ]\n",
      "  [ 3.3401222   1.1934988   2.9565187   7.598645    5.235264  ]\n",
      "  ...\n",
      "  [10.322563   -5.229859    0.30239037  8.2094755   3.907076  ]\n",
      "  [ 3.8805969  -8.267694    0.96918935  8.980176    3.3046284 ]\n",
      "  [-0.4374785  -9.021583   -0.86295354  8.768844    4.103272  ]]], shape=(240, 30, 5), dtype=float32)\n",
      "tf.Tensor(\n",
      "[[[ 0.99487954]\n",
      "  [ 0.9272803 ]\n",
      "  [ 2.3161995 ]\n",
      "  ...\n",
      "  [ 2.484003  ]\n",
      "  [ 3.2599046 ]\n",
      "  [ 4.150733  ]]\n",
      "\n",
      " [[ 2.586814  ]\n",
      "  [ 3.0385532 ]\n",
      "  [ 4.412343  ]\n",
      "  ...\n",
      "  [ 4.330805  ]\n",
      "  [ 5.160415  ]\n",
      "  [ 6.7301426 ]]\n",
      "\n",
      " [[ 6.1243415 ]\n",
      "  [ 8.769263  ]\n",
      "  [10.880895  ]\n",
      "  ...\n",
      "  [ 8.491525  ]\n",
      "  [ 6.5987387 ]\n",
      "  [ 3.4289427 ]]\n",
      "\n",
      " ...\n",
      "\n",
      " [[-4.6196623 ]\n",
      "  [-4.9169736 ]\n",
      "  [-2.6130989 ]\n",
      "  ...\n",
      "  [ 6.4125757 ]\n",
      "  [ 2.1984751 ]\n",
      "  [-0.57213336]]\n",
      "\n",
      " [[ 0.06405768]\n",
      "  [ 1.0040687 ]\n",
      "  [ 1.8682183 ]\n",
      "  ...\n",
      "  [10.404701  ]\n",
      "  [ 8.035864  ]\n",
      "  [ 3.5549078 ]]\n",
      "\n",
      " [[ 1.7008902 ]\n",
      "  [ 2.0512898 ]\n",
      "  [ 2.5523043 ]\n",
      "  ...\n",
      "  [ 0.8589261 ]\n",
      "  [ 1.0334429 ]\n",
      "  [-0.96901006]]], shape=(240, 30, 1), dtype=float32)\n"
     ]
    }
   ],
   "source": [
    "for i,j in train_dataset.take(1):\n",
    "    print(i)\n",
    "    print(j)"
   ]
  },
  {
   "cell_type": "code",
   "execution_count": 30,
   "metadata": {},
   "outputs": [],
   "source": [
    "#For creating Train and Validation datasets\n",
    "def train_val_creator(dataset, val_size):\n",
    "    val_dataset = dataset.take(val_size)\n",
    "    train_dataset = dataset.skip(val_size)\n",
    "    return train_dataset, val_dataset"
   ]
  },
  {
   "cell_type": "code",
   "execution_count": 31,
   "metadata": {},
   "outputs": [],
   "source": [
    "train_dataset, val_dataset = train_val_creator(dataset, parameter_list['val_size'])"
   ]
  },
  {
   "cell_type": "code",
   "execution_count": 36,
   "metadata": {},
   "outputs": [],
   "source": [
    "#Model defination\n",
    "def rnn_model():\n",
    "    net_input = tf.keras.Input(shape=(parameter_list['time_splits'], parameter_list['locality']), name='INPUT')\n",
    "    x = tf.keras.layers.LSTM(units=parameter_list['LSTM_output'])(net_input)\n",
    "    output = tf.keras.layers.Dense(units=parameter_list['net_output'], activation=tf.keras.activations.relu)(x)\n",
    "    return tf.keras.Model(net_input, output, name='RNN')"
   ]
  },
  {
   "cell_type": "code",
   "execution_count": 37,
   "metadata": {},
   "outputs": [],
   "source": [
    "model = rnn_model()"
   ]
  },
  {
   "cell_type": "code",
   "execution_count": 38,
   "metadata": {},
   "outputs": [
    {
     "name": "stdout",
     "output_type": "stream",
     "text": [
      "Model: \"RNN\"\n",
      "_________________________________________________________________\n",
      "Layer (type)                 Output Shape              Param #   \n",
      "=================================================================\n",
      "INPUT (InputLayer)           [(None, 30, 5)]           0         \n",
      "_________________________________________________________________\n",
      "lstm_1 (LSTM)                (None, 5)                 220       \n",
      "_________________________________________________________________\n",
      "dense_1 (Dense)              (None, 1)                 6         \n",
      "=================================================================\n",
      "Total params: 226\n",
      "Trainable params: 226\n",
      "Non-trainable params: 0\n",
      "_________________________________________________________________\n"
     ]
    }
   ],
   "source": [
    "model.summary()"
   ]
  },
  {
   "cell_type": "code",
   "execution_count": 39,
   "metadata": {},
   "outputs": [
    {
     "data": {
      "image/png": "[encoded data removed]",
      "text/plain": [
       "<IPython.core.display.Image object>"
      ]
     },
     "execution_count": 39,
     "metadata": {},
     "output_type": "execute_result"
    }
   ],
   "source": [
    "tf.keras.utils.plot_model(model, show_shapes=True)"
   ]
  },
  {
   "cell_type": "code",
   "execution_count": null,
   "metadata": {},
   "outputs": [],
   "source": [
    "#Defining Model compiling parameters\n",
    "optimizer = tf.keras.optimizers.Adam"
   ]
  }
 ],
 "metadata": {
  "kernelspec": {
   "display_name": "Python 3",
   "language": "python",
   "name": "python3"
  },
  "language_info": {
   "codemirror_mode": {
    "name": "ipython",
    "version": 3
   },
   "file_extension": ".py",
   "mimetype": "text/x-python",
   "name": "python",
   "nbconvert_exporter": "python",
   "pygments_lexer": "ipython3",
   "version": "3.7.4"
  }
 },
 "nbformat": 4,
 "nbformat_minor": 2
}
