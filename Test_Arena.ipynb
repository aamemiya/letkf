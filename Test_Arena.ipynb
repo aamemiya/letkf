{
 "cells": [
  {
   "cell_type": "code",
   "execution_count": 1,
   "metadata": {},
   "outputs": [],
   "source": [
    "import tensorflow as tf\n",
    "import numpy as np\n",
    "from netCDF4 import Dataset\n",
    "import time\n",
    "import math"
   ]
  },
  {
   "cell_type": "code",
   "execution_count": 2,
   "metadata": {},
   "outputs": [],
   "source": [
    "#Parameter List\n",
    "parameter_list = {}\n",
    "\n",
    "parameter_list['netCDf_loc'] = \"./lorenz96_multi/DATA_sample/X40F18/all_10/nocorr_I20/assim.nc\"\n",
    "parameter_list['xlocal'] = 3\n",
    "parameter_list['locality'] = 19\n",
    "parameter_list['time_splits'] = 30\n",
    "parameter_list['batch_size'] = 250\n",
    "parameter_list['val_size'] = 2\n",
    "parameter_list['LSTM_output'] = 5\n",
    "parameter_list['net_output'] = 1\n",
    "parameter_list['learning_rate'] = 1e-3\n",
    "parameter_list['log_dir'] = './log'\n",
    "parameter_list['checkpoint_dir'] = './checkpoint'\n",
    "parameter_list['max_checkpoint_keep'] = 4\n",
    "parameter_list['epochs'] = 5\n",
    "parameter_list['log_freq'] = 5\n",
    "parameter_list['early_stop_patience'] = 5\n",
    "parameter_list['num_epochs_checkpoint'] = 2\n",
    "parameter_list['summery_freq'] = 1"
   ]
  },
  {
   "cell_type": "code",
   "execution_count": 3,
   "metadata": {},
   "outputs": [],
   "source": [
    "#Getting the NetCDF files\n",
    "root_grp = Dataset(parameter_list['netCDf_loc'], \"r\", format=\"NETCDF4\")\n",
    "\n",
    "#Extrating the datasets\n",
    "analysis_init = root_grp[\"vam\"]\n",
    "forecast_init = root_grp[\"vfm\"]"
   ]
  },
  {
   "cell_type": "code",
   "execution_count": 4,
   "metadata": {},
   "outputs": [],
   "source": [
    "#Creation of datasets for training and validation\n",
    "\n",
    "#For creating locality for individual state variable\n",
    "def locality_creator(init_dataset):\n",
    "    \n",
    "    output_dataset = np.zeros((init_dataset.shape[0], init_dataset.shape[1], parameter_list['locality']))\n",
    "    radius = int(parameter_list['locality'] / 2)\n",
    "    \n",
    "    locality = np.linspace(-radius, radius, parameter_list['locality'])\n",
    "    locality = np.true_divide(locality, parameter_list['xlocal'])\n",
    "    locality = np.power(locality, 2)\n",
    "    locality = np.exp((-1/2) * locality)\n",
    "    \n",
    "    for i in range(init_dataset.shape[1]):\n",
    "        start = i - radius\n",
    "        stop = i + radius\n",
    "        index = np.linspace(start,stop,parameter_list['locality'], dtype='int')\n",
    "        if stop >= init_dataset.shape[1]:\n",
    "            stop2 = (stop + 1)%init_dataset.shape[1]\n",
    "            index[:-stop2] = np.linspace(start,analysis_init.shape[1]-1,analysis_init.shape[1]-start, dtype='int')\n",
    "            index[-stop2:] = np.arange(0,stop2,1,dtype='int')\n",
    "        output_dataset[:,i,:] = init_dataset[:,index]\n",
    "\n",
    "    return np.multiply(np.transpose(output_dataset,(1,0,2)), locality).astype('float32') \n",
    "\n",
    "#For creating the truth label\n",
    "def truth_label_creator(init_dataset):\n",
    "    output_dataset = init_dataset[:]\n",
    "    output_dataset = np.expand_dims(output_dataset, axis=0)\n",
    "    return np.transpose(output_dataset.astype('float32'))\n",
    "\n",
    "analysis_dataset = truth_label_creator(analysis_init)\n",
    "forecast_dataset = locality_creator(forecast_init)"
   ]
  },
  {
   "cell_type": "code",
   "execution_count": 5,
   "metadata": {},
   "outputs": [
    {
     "name": "stdout",
     "output_type": "stream",
     "text": [
      "(40, 7200, 1)\n",
      "(40, 7200, 19)\n"
     ]
    }
   ],
   "source": [
    "print(analysis_dataset.shape)\n",
    "print(forecast_dataset.shape)"
   ]
  },
  {
   "cell_type": "code",
   "execution_count": 6,
   "metadata": {},
   "outputs": [],
   "source": [
    "#Creating time data splits\n",
    "def split_sequences(sequences, n_steps):\n",
    "    X = list()\n",
    "    for i in range(len(sequences)):\n",
    "        # find the end of this pattern\n",
    "        end_ix = i*n_steps + n_steps\n",
    "        # check if we are beyond the dataset\n",
    "        if end_ix > len(sequences):\n",
    "            break\n",
    "        # gather input and output parts of the pattern\n",
    "        seq_x = sequences[i*n_steps:end_ix, :]\n",
    "        X.append(seq_x)\n",
    "    return np.array(X)"
   ]
  },
  {
   "cell_type": "code",
   "execution_count": 7,
   "metadata": {},
   "outputs": [],
   "source": [
    "#For serializing the tensor to a string for TFRecord\n",
    "def _serialize_tensor(value):\n",
    "    return tf.io.serialize_tensor(value)"
   ]
  },
  {
   "cell_type": "code",
   "execution_count": 8,
   "metadata": {},
   "outputs": [],
   "source": [
    "#For writing data to the TFRecord file\n",
    "def write_TFRecord(filename, dataset):\n",
    "    with tf.io.TFRecordWriter(filename) as writer:\n",
    "        for i in range(dataset.shape[0]):\n",
    "            dataset_splits = split_sequences(dataset[i],parameter_list['time_splits'])\n",
    "            for j in range(dataset_splits.shape[0]):\n",
    "                data = dataset_splits[j]\n",
    "                serial_string = _serialize_tensor(data)\n",
    "                writer.write(serial_string.numpy())\n",
    "    writer.close()"
   ]
  },
  {
   "cell_type": "code",
   "execution_count": 9,
   "metadata": {},
   "outputs": [],
   "source": [
    "#For reading the TFRecord File\n",
    "def read_TFRecord(filename):\n",
    "    return tf.data.TFRecordDataset(filename)\n",
    "\n",
    "#For parsing the value from string to float32\n",
    "def _parse_tensor(value):\n",
    "    return tf.io.parse_tensor(value, out_type=tf.float32)"
   ]
  },
  {
   "cell_type": "code",
   "execution_count": 10,
   "metadata": {},
   "outputs": [],
   "source": [
    "write_TFRecord('analysis.tfrecord', analysis_dataset)\n",
    "write_TFRecord('forecast.tfrecord', forecast_dataset)"
   ]
  },
  {
   "cell_type": "code",
   "execution_count": 11,
   "metadata": {},
   "outputs": [],
   "source": [
    "#Reading the TFRecord files\n",
    "anal_file = read_TFRecord('analysis.tfrecord')\n",
    "fore_file = read_TFRecord('forecast.tfrecord')\n",
    "\n",
    "#Parsing the dataset\n",
    "anal_file = anal_file.map(_parse_tensor)\n",
    "fore_file = fore_file.map(_parse_tensor)"
   ]
  },
  {
   "cell_type": "code",
   "execution_count": 12,
   "metadata": {},
   "outputs": [],
   "source": [
    "#Zipping the files\n",
    "dataset = tf.data.Dataset.zip((fore_file, anal_file))\n",
    "\n",
    "#Shuffling the dataset\n",
    "dataset = dataset.shuffle(100000)\n",
    "dataset = dataset.batch(batch_size=parameter_list['batch_size'])"
   ]
  },
  {
   "cell_type": "code",
   "execution_count": 13,
   "metadata": {},
   "outputs": [],
   "source": [
    "#For creating Train and Validation datasets\n",
    "\n",
    "def train_val_creator(dataset, val_size):\n",
    "    val_dataset = dataset.take(val_size)\n",
    "    train_dataset = dataset.skip(val_size)\n",
    "    return train_dataset, val_dataset"
   ]
  },
  {
   "cell_type": "code",
   "execution_count": 14,
   "metadata": {},
   "outputs": [],
   "source": [
    "train_dataset, val_dataset = train_val_creator(dataset, parameter_list['val_size'])"
   ]
  },
  {
   "cell_type": "code",
   "execution_count": 15,
   "metadata": {},
   "outputs": [],
   "source": [
    "#Model defination\n",
    "def rnn_model():\n",
    "    net_input = tf.keras.Input(shape=(parameter_list['time_splits'], parameter_list['locality']), name='INPUT')\n",
    "    x = tf.keras.layers.LSTM(units=parameter_list['LSTM_output'], return_sequences=True)(net_input)\n",
    "    output = tf.keras.layers.Dense(units=parameter_list['net_output'], activation=tf.keras.activations.relu)(x)\n",
    "    return tf.keras.Model(net_input, output, name='RNN')"
   ]
  },
  {
   "cell_type": "code",
   "execution_count": 16,
   "metadata": {},
   "outputs": [],
   "source": [
    "model = rnn_model()"
   ]
  },
  {
   "cell_type": "code",
   "execution_count": 17,
   "metadata": {},
   "outputs": [
    {
     "name": "stdout",
     "output_type": "stream",
     "text": [
      "Model: \"RNN\"\n",
      "_________________________________________________________________\n",
      "Layer (type)                 Output Shape              Param #   \n",
      "=================================================================\n",
      "INPUT (InputLayer)           [(None, 30, 19)]          0         \n",
      "_________________________________________________________________\n",
      "lstm (LSTM)                  (None, 30, 5)             500       \n",
      "_________________________________________________________________\n",
      "dense (Dense)                (None, 30, 1)             6         \n",
      "=================================================================\n",
      "Total params: 506\n",
      "Trainable params: 506\n",
      "Non-trainable params: 0\n",
      "_________________________________________________________________\n"
     ]
    }
   ],
   "source": [
    "model.summary()"
   ]
  },
  {
   "cell_type": "code",
   "execution_count": 18,
   "metadata": {},
   "outputs": [
    {
     "data": {
      "image/png": "[encoded data removed]",
      "text/plain": [
       "<IPython.core.display.Image object>"
      ]
     },
     "execution_count": 18,
     "metadata": {},
     "output_type": "execute_result"
    }
   ],
   "source": [
    "tf.keras.utils.plot_model(model, show_shapes=True)"
   ]
  },
  {
   "cell_type": "code",
   "execution_count": 19,
   "metadata": {},
   "outputs": [
    {
     "name": "stdout",
     "output_type": "stream",
     "text": [
      "Initializing from scratch.\n"
     ]
    }
   ],
   "source": [
    "#Defining Model compiling parameters\n",
    "learning_rate = parameter_list['learning_rate']\n",
    "optimizer = tf.keras.optimizers.Adam(learning_rate=learning_rate, amsgrad=True)\n",
    "\n",
    "#Loss and metric\n",
    "loss_func = tf.keras.losses.MeanSquaredError(name='Loss: MSE')\n",
    "metric_train = tf.keras.metrics.RootMeanSquaredError(name='T_RMSE')\n",
    "metric_val = tf.keras.metrics.RootMeanSquaredError(name='V_RMSE')\n",
    "\n",
    "#Creating summary writer\n",
    "summary_writer = tf.summary.create_file_writer(logdir= parameter_list['log_dir'])\n",
    "\n",
    "#Creating checkpoint instance\n",
    "checkpoint = tf.train.Checkpoint(epoch = tf.Variable(0), optimizer = optimizer, model = model)\n",
    "save_directory = parameter_list['checkpoint_dir']\n",
    "manager = tf.train.CheckpointManager(checkpoint, directory= save_directory, \n",
    "                                    max_to_keep= parameter_list['max_checkpoint_keep'])\n",
    "checkpoint.restore(manager.latest_checkpoint)\n",
    "\n",
    "#Checking if previous checkpoint exists\n",
    "if manager.latest_checkpoint:\n",
    "    print(\"Restored from {}\".format(manager.latest_checkpoint))\n",
    "else:\n",
    "    print(\"Initializing from scratch.\")\n",
    "    \n",
    "#Initialing training variables\n",
    "global_step = 0\n",
    "global_step_val = 0\n",
    "val_min = 0"
   ]
  },
  {
   "cell_type": "code",
   "execution_count": 20,
   "metadata": {},
   "outputs": [
    {
     "name": "stdout",
     "output_type": "stream",
     "text": [
      "\n",
      "Start of epoch 1\n",
      "Training loss (for one batch) at step 1: 40.053932189941406\n",
      "Seen so far: 250 samples\n",
      "Training loss (for one batch) at step 6: 42.66447067260742\n",
      "Seen so far: 1500 samples\n",
      "Training loss (for one batch) at step 11: 41.161865234375\n",
      "Seen so far: 2750 samples\n",
      "Training loss (for one batch) at step 16: 44.37649917602539\n",
      "Seen so far: 4000 samples\n",
      "Training loss (for one batch) at step 21: 41.0267219543457\n",
      "Seen so far: 5250 samples\n",
      "Training loss (for one batch) at step 26: 40.32449722290039\n",
      "Seen so far: 6500 samples\n",
      "Training loss (for one batch) at step 31: 43.94984436035156\n",
      "Seen so far: 7750 samples\n",
      "Training loss (for one batch) at step 36: 40.507755279541016\n",
      "Seen so far: 9000 samples\n",
      "Training acc over epoch: 6.42230749130249 \n",
      "\n",
      "Validation loss (for one batch) at step 0: 41.06425476074219\n",
      "Seen so far: 9250 samples\n",
      "Validation acc over epoch: 6.380187511444092 \n",
      "\n",
      "Saved checkpoint for epoch 1: ./checkpoint/ckpt-1\n",
      "loss 42.65\n",
      "Time for epoch (in minutes): 0.08243705034255981\n",
      "\n",
      "Start of epoch 2\n",
      "Training loss (for one batch) at step 1: 42.78865051269531\n",
      "Seen so far: 9500 samples\n",
      "Training loss (for one batch) at step 6: 38.36222457885742\n",
      "Seen so far: 10750 samples\n",
      "Training loss (for one batch) at step 11: 37.027286529541016\n",
      "Seen so far: 12000 samples\n",
      "Training loss (for one batch) at step 16: 36.741249084472656\n",
      "Seen so far: 13250 samples\n",
      "Training loss (for one batch) at step 21: 37.35968017578125\n",
      "Seen so far: 14500 samples\n",
      "Training loss (for one batch) at step 26: 36.05228805541992\n",
      "Seen so far: 15750 samples\n",
      "Training loss (for one batch) at step 31: 37.98246765136719\n",
      "Seen so far: 17000 samples\n",
      "Training loss (for one batch) at step 36: 33.841758728027344\n",
      "Seen so far: 18250 samples\n",
      "Training acc over epoch: 6.111990928649902 \n",
      "\n",
      "Validation loss (for one batch) at step 0: 35.42939758300781\n",
      "Seen so far: 9250 samples\n",
      "Validation acc over epoch: 5.93636417388916 \n",
      "\n",
      "Time for epoch (in minutes): 0.08716569741566976\n",
      "\n",
      "Start of epoch 3\n",
      "Training loss (for one batch) at step 1: 34.593318939208984\n",
      "Seen so far: 18750 samples\n",
      "Training loss (for one batch) at step 6: 34.080177307128906\n",
      "Seen so far: 20000 samples\n",
      "Training loss (for one batch) at step 11: 31.23880386352539\n",
      "Seen so far: 21250 samples\n",
      "Training loss (for one batch) at step 16: 33.70073318481445\n",
      "Seen so far: 22500 samples\n",
      "Training loss (for one batch) at step 21: 33.64765930175781\n",
      "Seen so far: 23750 samples\n",
      "Training loss (for one batch) at step 26: 32.500980377197266\n",
      "Seen so far: 25000 samples\n",
      "Training loss (for one batch) at step 31: 29.718677520751953\n",
      "Seen so far: 26250 samples\n",
      "Training loss (for one batch) at step 36: 30.63431167602539\n",
      "Seen so far: 27500 samples\n",
      "Training acc over epoch: 5.698888778686523 \n",
      "\n",
      "Validation loss (for one batch) at step 0: 30.783294677734375\n",
      "Seen so far: 9250 samples\n",
      "Validation acc over epoch: 5.564464092254639 \n",
      "\n",
      "Saved checkpoint for epoch 3: ./checkpoint/ckpt-2\n",
      "loss 30.54\n",
      "Time for epoch (in minutes): 0.07561990022659301\n",
      "\n",
      "Start of epoch 4\n",
      "Training loss (for one batch) at step 1: 29.068092346191406\n",
      "Seen so far: 28000 samples\n",
      "Training loss (for one batch) at step 6: 30.588340759277344\n",
      "Seen so far: 29250 samples\n",
      "Training loss (for one batch) at step 11: 29.24667739868164\n",
      "Seen so far: 30500 samples\n",
      "Training loss (for one batch) at step 16: 28.591379165649414\n",
      "Seen so far: 31750 samples\n",
      "Training loss (for one batch) at step 21: 29.438194274902344\n",
      "Seen so far: 33000 samples\n",
      "Training loss (for one batch) at step 26: 24.936973571777344\n",
      "Seen so far: 34250 samples\n",
      "Training loss (for one batch) at step 31: 27.16398811340332\n",
      "Seen so far: 35500 samples\n",
      "Training loss (for one batch) at step 36: 26.730154037475586\n",
      "Seen so far: 36750 samples\n",
      "Training acc over epoch: 5.292532920837402 \n",
      "\n",
      "Validation loss (for one batch) at step 0: 26.106826782226562\n",
      "Seen so far: 9250 samples\n",
      "Validation acc over epoch: 5.037046909332275 \n",
      "\n",
      "Time for epoch (in minutes): 0.07025063435236613\n",
      "\n",
      "Start of epoch 5\n",
      "Training loss (for one batch) at step 1: 26.238710403442383\n",
      "Seen so far: 37250 samples\n",
      "Training loss (for one batch) at step 6: 24.49026870727539\n",
      "Seen so far: 38500 samples\n",
      "Training loss (for one batch) at step 11: 23.35690689086914\n",
      "Seen so far: 39750 samples\n",
      "Training loss (for one batch) at step 16: 24.16737937927246\n",
      "Seen so far: 41000 samples\n",
      "Training loss (for one batch) at step 21: 23.983287811279297\n",
      "Seen so far: 42250 samples\n",
      "Training loss (for one batch) at step 26: 23.557907104492188\n",
      "Seen so far: 43500 samples\n",
      "Training loss (for one batch) at step 31: 23.837976455688477\n",
      "Seen so far: 44750 samples\n",
      "Training loss (for one batch) at step 36: 23.107776641845703\n",
      "Seen so far: 46000 samples\n",
      "Training acc over epoch: 4.902710914611816 \n",
      "\n",
      "Validation loss (for one batch) at step 0: 22.002588272094727\n",
      "Seen so far: 9250 samples\n",
      "Validation acc over epoch: 4.721015930175781 \n",
      "\n",
      "Saved checkpoint for epoch 5: ./checkpoint/ckpt-3\n",
      "loss 22.57\n",
      "Time for epoch (in minutes): 0.07944611310958863\n"
     ]
    }
   ],
   "source": [
    "#Starting training\n",
    "with summary_writer.as_default():\n",
    "\n",
    "    epochs = parameter_list['epochs']\n",
    "\n",
    "    for epoch in range(epochs):\n",
    "\n",
    "        start_time = time.time()\n",
    "\n",
    "        print('\\nStart of epoch %d' %(epoch+1))\n",
    "\n",
    "        # Iterate over the batches of the dataset.\n",
    "        for step, (local_forecast, analysis) in enumerate(train_dataset):\n",
    "\n",
    "            global_step += 1\n",
    "\n",
    "            # Open a GradientTape to record the operations run\n",
    "            # during the forward pass, which enables autodifferentiation.\n",
    "            with tf.GradientTape() as tape:\n",
    "\n",
    "                pred_analysis = model(local_forecast)\n",
    "\n",
    "                #Calculating relative loss\n",
    "                loss = loss_func(analysis, pred_analysis)\n",
    "\n",
    "            gradients = tape.gradient(loss, model.trainable_variables)\n",
    "            optimizer.apply_gradients(zip(gradients, model.trainable_weights))\n",
    "\n",
    "            metric_train(analysis, pred_analysis)\n",
    "\n",
    "            # Log of validation results  \n",
    "            if (step % parameter_list['log_freq']) == 0:\n",
    "                print('Training loss (for one batch) at step %s: %s' % (step+1, float(loss)))\n",
    "                print('Seen so far: %s samples' % ((global_step) * parameter_list['batch_size']))\n",
    "                \n",
    "        # Display metrics at the end of each epoch.\n",
    "        train_acc = metric_train.result()\n",
    "        print('Training acc over epoch: %s \\n' % (float(train_acc)))\n",
    "\n",
    "        if not(epoch % parameter_list['summery_freq']):\n",
    "            tf.summary.scalar('Loss_total', loss, step= epoch)\n",
    "            tf.summary.scalar('Train_RMSE', train_acc, step= epoch)\n",
    "\n",
    "        # Reset training metrics at the end of each epoch\n",
    "        metric_train.reset_states()\n",
    "\n",
    "        #Code for validation at the end of each epoch\n",
    "        for step_val, (local_forecast_val, analysis_val) in enumerate(val_dataset):\n",
    "\n",
    "            global_step_val += 1\n",
    "\n",
    "            pred_analysis_val = model(local_forecast_val)\n",
    "\n",
    "            val_loss = loss_func(analysis_val, pred_analysis_val)\n",
    "            metric_val(analysis_val, pred_analysis_val)\n",
    "\n",
    "            if (step_val % parameter_list['log_freq']) == 0:\n",
    "                print('Validation loss (for one batch) at step %s: %s' % (step_val, float(val_loss)))\n",
    "                print('Seen so far: %s samples' % ((step + 1) * parameter_list['batch_size']))\n",
    "                \n",
    "        val_acc = metric_val.result()\n",
    "        print('Validation acc over epoch: %s \\n' % (float(val_acc)))\n",
    "        \n",
    "        if not(epoch % parameter_list['summery_freq']):\n",
    "            tf.summary.scalar('Loss_total_val', val_loss, step= epoch)\n",
    "            tf.summary.scalar('Val_RMSE', metric_val.result(), step= epoch)\n",
    "            \n",
    "        # Reset training metrics at the end of each epoch\n",
    "        metric_val.reset_states()\n",
    "\n",
    "        checkpoint.epoch.assign_add(1)\n",
    "        if int(checkpoint.epoch + 1) % parameter_list['num_epochs_checkpoint'] == 0:\n",
    "            save_path = manager.save()\n",
    "            print(\"Saved checkpoint for epoch {}: {}\".format(int(checkpoint.epoch), save_path))\n",
    "            print(\"loss {:1.2f}\".format(loss.numpy()))\n",
    "\n",
    "        if math.isnan(val_acc):\n",
    "            print('Breaking out as the validation loss is nan')\n",
    "            break                \n",
    "\n",
    "        if (epoch > 19):\n",
    "            if not (epoch % parameter_list['early_stop_patience']):\n",
    "                if not (val_min):\n",
    "                    val_min = val_acc\n",
    "                else:\n",
    "                    if val_min > val_acc:\n",
    "                        val_min = val_acc\n",
    "                    else:\n",
    "                        print('Breaking loop as validation accuracy not improving')\n",
    "                        save_path = manager.save()\n",
    "                        print(\"Saved checkpoint for epoch {}: {}\".format(int(checkpoint.epoch), save_path))\n",
    "                        print(\"loss {:1.2f}\".format(loss.numpy()))\n",
    "                        break\n",
    "\n",
    "        print('Time for epoch (in minutes): %s' %((time.time() - start_time)/60))"
   ]
  },
  {
   "cell_type": "code",
   "execution_count": 21,
   "metadata": {},
   "outputs": [],
   "source": [
    "model.save('model.h5')"
   ]
  },
  {
   "cell_type": "code",
   "execution_count": 22,
   "metadata": {},
   "outputs": [
    {
     "data": {
      "text/plain": [
       "185"
      ]
     },
     "execution_count": 22,
     "metadata": {},
     "output_type": "execute_result"
    }
   ],
   "source": [
    "global_step"
   ]
  },
  {
   "cell_type": "code",
   "execution_count": null,
   "metadata": {},
   "outputs": [],
   "source": [
    "#Defining Model compiling parameters\n",
    "optimizer = tf.keras.optimizers.Adam"
   ]
  }
 ],
 "metadata": {
  "kernelspec": {
   "display_name": "Python 3",
   "language": "python",
   "name": "python3"
  },
  "language_info": {
   "codemirror_mode": {
    "name": "ipython",
    "version": 3
   },
   "file_extension": ".py",
   "mimetype": "text/x-python",
   "name": "python",
   "nbconvert_exporter": "python",
   "pygments_lexer": "ipython3",
   "version": "3.7.4"
  }
 },
 "nbformat": 4,
 "nbformat_minor": 2
}
